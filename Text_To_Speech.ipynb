{
 "cells": [
  {
   "cell_type": "code",
   "execution_count": 28,
   "id": "2eea8958",
   "metadata": {},
   "outputs": [],
   "source": [
    "#!pip install pyttsx3\n",
    "#!pip install gTTs\n",
    "#!pip install playsound"
   ]
  },
  {
   "cell_type": "code",
   "execution_count": 29,
   "id": "5c0fa282",
   "metadata": {},
   "outputs": [],
   "source": [
    "import tkinter as tk\n",
    "from tkinter import *\n",
    "\n",
    "from tkinter.ttk import Combobox\n",
    "import pyttsx3\n",
    "import os\n",
    "from gtts import gTTS\n",
    "from playsound import playsound"
   ]
  },
  {
   "cell_type": "code",
   "execution_count": 30,
   "id": "f62caa46",
   "metadata": {},
   "outputs": [],
   "source": [
    "root = Tk()\n",
    "root.title(\"Text to Speech Converter\")\n",
    "root.geometry(\"1000x580+200+80\")\n",
    "root.resizable(False, False)\n",
    "root.configure(bg=\"#F7AC40\")"
   ]
  },
  {
   "cell_type": "code",
   "execution_count": 31,
   "id": "670cfdc0",
   "metadata": {},
   "outputs": [],
   "source": [
    "chris_logo = PhotoImage(file=\"./logo.png\")\n",
    "Label(root, image=chris_logo, bg=\"#F7AC40\").place(x=880, y=530)\n",
    "root.iconphoto(False, chris_logo)"
   ]
  },
  {
   "cell_type": "code",
   "execution_count": 32,
   "id": "40995981",
   "metadata": {},
   "outputs": [],
   "source": [
    "upper_frame = Frame(root, bg=\"#14A7DD\", width=1200, height=130)\n",
    "upper_frame.place(x=0, y=0)\n",
    "\n",
    "picture=PhotoImage(file=\"./text-to-speech.png\")\n",
    "Label(upper_frame, image=picture, bg=\"#14A7DD\").place(x=150, y=20)"
   ]
  },
  {
   "cell_type": "code",
   "execution_count": 33,
   "id": "6c7d4e2b",
   "metadata": {},
   "outputs": [],
   "source": [
    "Label(upper_frame, text=\"Text to Speech\", font=\"TimesNewroman 40 bold\", bg=\"#14A7DD\", fg=\"white\").place(x=250, y=35)\n",
    "text_box = Text(root, font=\"calibri 20\", bg=\"white\", relief=GROOVE, wrap=WORD, bd=0)\n",
    "text_box.place(x=30, y=150, width=940, height=180)"
   ]
  },
  {
   "cell_type": "code",
   "execution_count": 34,
   "id": "cb99c6a1",
   "metadata": {},
   "outputs": [],
   "source": [
    "Label(root, text=\"Select Voice\", font=\"TimesNewroman 15 bold\", bg=\"#F7AC40\", fg=\"white\").place(x=340, y=340)\n",
    "Label(root, text=\"Select Speed\", font=\"TimesNewroman 15 bold\", bg=\"#F7AC40\", fg=\"white\").place(x=540, y=340)\n",
    "\n",
    "gender_box = Combobox(root, values=['Male', 'Female'], font=\"Robote 12\", state='r', width=12)\n",
    "gender_box.place(x=340, y=365)\n",
    "gender_box.set('Male')\n",
    "\n",
    "speed_box = Combobox(root, values=['Fast', 'Medium', 'Slow'], font=\"Robote 12\", state='r', width=12)\n",
    "speed_box.place(x=540, y=365)\n",
    "speed_box.set('Medium')"
   ]
  },
  {
   "cell_type": "code",
   "execution_count": 35,
   "id": "6ab3725d",
   "metadata": {},
   "outputs": [],
   "source": [
    "def speak():\n",
    "    tts = pyttsx3.init()\n",
    "    text = text_box.get(1.0, END)\n",
    "    gender = gender_box.get()\n",
    "    speed = speed_box.get()\n",
    "    voices = tts.getProperty('voices')\n",
    "    \n",
    "    def setvoices():\n",
    "        if gender == 'Male':\n",
    "            tts.setProperty('voice', voices[0].id)\n",
    "        else:\n",
    "            tts.setProperty('voice', voices[1].id)\n",
    "        tts.say(text)\n",
    "        tts.runAndWait()\n",
    "    if text:\n",
    "        if speed == 'Fast':\n",
    "            tts.setProperty('rate', 250)\n",
    "        elif speed == 'Medium':\n",
    "            tts.setProperty('rate', 150)\n",
    "        else:\n",
    "            tts.setProperty('rate', 60)\n",
    "        setvoices()"
   ]
  },
  {
   "cell_type": "code",
   "execution_count": null,
   "id": "31f8b3cc",
   "metadata": {},
   "outputs": [],
   "source": [
    "play_img = PhotoImage(file=\"./play_button.png\")\n",
    "play_btn = Button(root, text=\"Play\", compound=LEFT, image=play_img, bg='white', width=130, font=\"arial 14 bold\", borderwidth='0.1c', command=speak)\n",
    "play_btn.place(x=435, y=450)\n",
    "root.mainloop()"
   ]
  }
 ],
 "metadata": {
  "kernelspec": {
   "display_name": "Python 3 (ipykernel)",
   "language": "python",
   "name": "python3"
  },
  "language_info": {
   "codemirror_mode": {
    "name": "ipython",
    "version": 3
   },
   "file_extension": ".py",
   "mimetype": "text/x-python",
   "name": "python",
   "nbconvert_exporter": "python",
   "pygments_lexer": "ipython3",
   "version": "3.9.12"
  }
 },
 "nbformat": 4,
 "nbformat_minor": 5
}
